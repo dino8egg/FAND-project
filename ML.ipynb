{
 "cells": [
  {
   "cell_type": "code",
   "execution_count": 1,
   "metadata": {},
   "outputs": [],
   "source": [
    "from python_speech_features import *\n",
    "import numpy as np\n",
    "from scipy.io import wavfile as wav\n",
    "import threading\n",
    "import os\n",
    "from libs.interface import ModelInterface"
   ]
  },
  {
   "cell_type": "code",
   "execution_count": 2,
   "metadata": {},
   "outputs": [],
   "source": [
    "data_path = 'record_data/'\n",
    "data_directory = ['number/', 'sentence/', 'word/']\n",
    "data_titles = {}\n",
    "person_names = []\n",
    "\n",
    "def analyze_wavfile(filename):\n",
    "    tmp = filename.replace('.wav', '').split('_')\n",
    "    return tmp[1], tmp[2]\n",
    "\n",
    "for directory in data_directory:\n",
    "    wavfile_list = os.listdir(data_path + directory)\n",
    "    for wavfile in wavfile_list:\n",
    "        name, title = analyze_wavfile(wavfile)\n",
    "        if not name in person_names:\n",
    "            person_names.append(name)\n",
    "        if not directory in data_titles:\n",
    "            data_titles[directory] = [title]\n",
    "        elif not title in data_titles[directory]:\n",
    "            data_titles[directory].append(title)"
   ]
  },
  {
   "cell_type": "code",
   "execution_count": 3,
   "metadata": {},
   "outputs": [
    {
     "name": "stdout",
     "output_type": "stream",
     "text": [
      "training time: 54.87299966812134 seconds\n",
      "\n",
      "Ashley: 8193627 -> Ashley, 0.2\n",
      "\n",
      "Ashley: Please-open-internet-explorer -> Ashley, 0.2\n",
      "\n",
      "Ashley: explanation -> Ashley, 0.2\n",
      "\n",
      "Hugh: 8193627 -> Hugh, 0.2\n",
      "\n",
      "Hugh: Please-open-internet-explorer -> Hugh, 0.2\n",
      "\n",
      "Hugh: explanation -> Hugh, 0.201\n",
      "\n",
      "James: 8193627 -> James, 0.2\n",
      "\n",
      "James: Please-open-internet-explorer -> James, 0.2\n",
      "\n",
      "James: explanation -> James, 0.2\n",
      "\n",
      "Samantha: 8193627 -> Samantha, 0.2\n",
      "\n",
      "Samantha: Please-open-internet-explorer -> Samantha, 0.2\n",
      "\n",
      "Samantha: explanation -> Samantha, 0.2\n",
      "\n",
      "Tom: 8193627 -> Tom, 0.2\n",
      "\n",
      "Tom: Please-open-internet-explorer -> Tom, 0.2\n",
      "\n",
      "Tom: explanation -> James, 0.2\n",
      "\n"
     ]
    }
   ],
   "source": [
    "testset = ['8193627', 'Please-open-internet-explorer', 'explanation']\n",
    "gmm_order = 32\n",
    "feat = 'fbank'\n",
    "\n",
    "m = ModelInterface(gmm_order, feat)\n",
    "for directory in data_directory:\n",
    "    wavfile_list = os.listdir(data_path + directory)\n",
    "    for wavfile in wavfile_list:\n",
    "        name, title = analyze_wavfile(wavfile)\n",
    "        if not title in testset:\n",
    "            m.enroll(name, data_path + directory + wavfile)\n",
    "time = m.train()\n",
    "print('training time: {} seconds\\n'.format(time))\n",
    "for person in person_names:\n",
    "    label, score = m.predict(data_path + 'number/RECORD_{}_{}.wav'.format(person, testset[0]))\n",
    "    print('{}: {} -> {}, {}\\n'.format(person, testset[0], label, score))\n",
    "    label, score = m.predict(data_path + 'sentence/RECORD_{}_{}.wav'.format(person, testset[1]))\n",
    "    print('{}: {} -> {}, {}\\n'.format(person, testset[1], label, score))\n",
    "    label, score = m.predict(data_path + 'word/RECORD_{}_{}.wav'.format(person, testset[2]))\n",
    "    print('{}: {} -> {}, {}\\n'.format(person, testset[2], label, score))"
   ]
  },
  {
   "cell_type": "code",
   "execution_count": null,
   "metadata": {},
   "outputs": [],
   "source": []
  },
  {
   "cell_type": "code",
   "execution_count": null,
   "metadata": {},
   "outputs": [],
   "source": []
  },
  {
   "cell_type": "code",
   "execution_count": null,
   "metadata": {
    "scrolled": true
   },
   "outputs": [],
   "source": []
  },
  {
   "cell_type": "code",
   "execution_count": null,
   "metadata": {},
   "outputs": [],
   "source": []
  },
  {
   "cell_type": "code",
   "execution_count": null,
   "metadata": {},
   "outputs": [],
   "source": []
  },
  {
   "cell_type": "code",
   "execution_count": null,
   "metadata": {},
   "outputs": [],
   "source": []
  },
  {
   "cell_type": "code",
   "execution_count": null,
   "metadata": {},
   "outputs": [],
   "source": []
  },
  {
   "cell_type": "code",
   "execution_count": null,
   "metadata": {},
   "outputs": [],
   "source": []
  },
  {
   "cell_type": "code",
   "execution_count": null,
   "metadata": {},
   "outputs": [],
   "source": []
  },
  {
   "cell_type": "code",
   "execution_count": null,
   "metadata": {},
   "outputs": [],
   "source": []
  },
  {
   "cell_type": "code",
   "execution_count": null,
   "metadata": {},
   "outputs": [],
   "source": []
  },
  {
   "cell_type": "code",
   "execution_count": null,
   "metadata": {},
   "outputs": [],
   "source": []
  },
  {
   "cell_type": "code",
   "execution_count": null,
   "metadata": {},
   "outputs": [],
   "source": []
  }
 ],
 "metadata": {
  "kernelspec": {
   "display_name": "Python 3",
   "language": "python",
   "name": "python3"
  },
  "language_info": {
   "codemirror_mode": {
    "name": "ipython",
    "version": 3
   },
   "file_extension": ".py",
   "mimetype": "text/x-python",
   "name": "python",
   "nbconvert_exporter": "python",
   "pygments_lexer": "ipython3",
   "version": "3.7.4"
  }
 },
 "nbformat": 4,
 "nbformat_minor": 2
}
